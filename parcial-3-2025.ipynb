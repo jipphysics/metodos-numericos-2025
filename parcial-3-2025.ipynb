{
 "cells": [
  {
   "cell_type": "markdown",
   "metadata": {},
   "source": [
    "# Métodos Numéricos 2025"
   ]
  },
  {
   "cell_type": "markdown",
   "metadata": {},
   "source": [
    "## Parcial 3 - Guías 6 y 7\n",
    "\n",
    "**Modalidad:** Presencial. \n",
    "\n",
    "## Nombre\n",
    "\n",
    "* Juan/a Perez, DNI: 10.000.000\n",
    "\n",
    "## Nota sobre la programación en Julia\n",
    "\n",
    "Recuerde que su notebook tiene que poder ser entendida por otra persona. Para ello:\n",
    "\n",
    "* Cuando crea conveniente, use celdas/texto Markdown para desarrollar o comentar una idea.\n",
    "\n",
    "* Agregue comentarios a su código de ser necesario.\n",
    "\n",
    "* Realice gráficos que tengan etiquetas en los ejes y leyendas para cada curva o serie de puntos graficados.\n",
    "\n",
    "* Procure respetar reglas de buena programación:\n",
    "\n",
    "    * Use sangrías (indentación o bloques) adecuadamente y recuerde el concepto de alcance (o scope).\n",
    "\n",
    "    * Cuando sea posible, implemente funciones de caracter general, en vez de código específico a cada problema, facilitando así la reutilización de código.\n",
    "\n",
    "    * Implemente funciones que tengan los argumentos necesarios para su buen funcionamiento, en vez de utilizar variables globales.\n",
    " \n",
    "* **IMPORTANTE:** Antes de enviar el notebook para su corrección, no olvide resetear el kernel y re-evaluar nuevamente todas las celdas en orden, procurando que los resultados sean correctos."
   ]
  },
  {
   "cell_type": "code",
   "execution_count": null,
   "metadata": {},
   "outputs": [],
   "source": [
    "using Plots\n",
    "using LaTeXStrings\n",
    "#using DataFrames\n",
    "#using CSV\n",
    "#using LsqFit"
   ]
  },
  {
   "cell_type": "markdown",
   "metadata": {},
   "source": [
    "## Problema 1\n",
    "\n",
    "1. Implemente funciones que permitan obtener aproximaciones numéricas de la integral de una cierta función $f:x\\to f(x)$ utilizando los métodos de **trapecio** y **Simpson**. Las funciones deben tomar como datos de entrada:\n",
    "    1. la función a integrar $f$,\n",
    "    2. el intervalo de integración $(a,b)$, y\n",
    "    3. el número de subintervalos de integración $n$.\n",
    "y deberán retornar la aproximación de la integral en doble precisión.\n",
    "\n",
    "2. Grafique la función\n",
    "$$\n",
    "f(x) = x\\, \\mathrm{sen}(x^2)  \n",
    "$$\n",
    "en el intervalo $[0.0,\\sqrt{\\pi}]$.\n",
    "\n",
    "3. Para cada uno de los métodos implementados:\n",
    "\n",
    "    1. Calcule la aproximación $I_n$ de la integral $I=\\int_a^b dx\\,f(x)$ para $n=10\\times 2^i$ con $i=1,2,...,12$.\n",
    "\n",
    "    2. Teniendo en cuenta que es posible conocer el resultado exacto de la integral en cuestión, evalúe el error $\\epsilon_n=|I_n-I|$ en función de $n$ y grafíquelo en escala doble logarítmica.\n",
    "    \n",
    "    3. Agregando al gráfico curvas de la forma $Cn^{-\\beta}$ vs $n$, determine la dependencia del error $\\epsilon_n$ con el número de intervalos $n$.\n",
    "  \n",
    "4. A modo de comparación, ponga todos los resultados en un mismo gráfico."
   ]
  },
  {
   "cell_type": "markdown",
   "metadata": {},
   "source": [
    "### Rta. 1.1"
   ]
  },
  {
   "cell_type": "code",
   "execution_count": null,
   "metadata": {},
   "outputs": [],
   "source": []
  },
  {
   "cell_type": "markdown",
   "metadata": {},
   "source": [
    "## Problema 2\n",
    "\n",
    "Considere el problema de valores iniciales multidimensional\n",
    "$$\n",
    "y^{\\prime} = f(t,y), \\qquad a\\le t\\le b, \\qquad y(a)=\\alpha\n",
    "$$\n",
    "tratado en la guía 7, donde $y$ y $f(t,y)$ son en general vectores en el\n",
    "espacio euclideo de dimensión $d$. \n",
    "\n",
    "1. Utilizando como ejemplo los métodos de integración que desarrolló en la Guía 7, implemente el método de integración de tercer orden desarrollado por **Heun**, el cual viene dado por las siguientes especificaciones:\n",
    "\\begin{eqnarray}\n",
    "w_0    & = & \\alpha \\nonumber \\\\\n",
    "\\vdots & & \\vdots \\nonumber \\\\\n",
    "w_{i+1} & = & w_i + \\frac{(k_1\\, + \\, 3 k_3)}{4} \\nonumber\n",
    "\\end{eqnarray}\n",
    "para $i=1,2,\\ldots,N$ con $h=(b-a)/(N-1)$ y\n",
    "\\begin{eqnarray}\n",
    "k_1    & = & h \\, f(t_i,w_i) \\nonumber\\\\\n",
    "k_2    & = & h \\, f(t_i+h/3,  w_i+\\,k_1/3) \\nonumber\\\\\n",
    "k_3    & = & h \\, f(t_i+2h/3, w_i+\\,2 k_2/3) \\nonumber\\\\\n",
    "\\end{eqnarray}\n",
    "\n",
    "**Observación:** recuerde que $w_i$, $k_1$, $k_2$ y $k_3$ son vectores de dimensión $d$, que $N$ representa el número de puntos y $N-1$ el número de subintervalos de integración.\n",
    "\n",
    "2. Con los cuatro métodos, **Euler**, **RK2**, **Heun** y **RK4**, y con $h=0.05$, integre numéricamente el problema de valor inicial\n",
    "$$\n",
    "\\frac{dy}{dt}(t) = \\frac{2-2\\, t \\,y(t)}{t^2+1} \\qquad  \\qquad 0\\le t \\le 1, \n",
    "\\qquad \\qquad \n",
    "y(0)=1 \\, ,\n",
    "$$\n",
    "\n",
    "3. Teniendo en cuenta que la solución exacta de este problema es\n",
    "$$\n",
    "y(t) = \\frac{2t+1}{t^2+1}\n",
    "$$\n",
    "a modo de comparación, grafique simultaneamente la solución exacta y las aproximaciones numéricas anteriormente computadas.\n",
    "\n",
    "4. A modo de comparación, grafique simultaneamente y en escala logarítmica en $y$ y lineal en $x$, las curvas del error absoluto $\\epsilon_i=|w_i-y(t_i)|$ vs $t_i$ obtenidas con los cuatro métodos."
   ]
  },
  {
   "cell_type": "markdown",
   "metadata": {},
   "source": [
    "### Rta. 2.1"
   ]
  },
  {
   "cell_type": "code",
   "execution_count": null,
   "metadata": {},
   "outputs": [],
   "source": []
  }
 ],
 "metadata": {
  "@webio": {
   "lastCommId": null,
   "lastKernelId": null
  },
  "kernelspec": {
   "display_name": "Julia 1.11.5",
   "language": "julia",
   "name": "julia-1.11"
  },
  "language_info": {
   "file_extension": ".jl",
   "mimetype": "application/julia",
   "name": "julia",
   "version": "1.11.5"
  }
 },
 "nbformat": 4,
 "nbformat_minor": 4
}
