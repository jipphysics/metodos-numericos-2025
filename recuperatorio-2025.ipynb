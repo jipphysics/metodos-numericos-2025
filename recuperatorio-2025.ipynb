{
 "cells": [
  {
   "cell_type": "markdown",
   "metadata": {},
   "source": [
    "# Métodos Numéricos 2025"
   ]
  },
  {
   "cell_type": "markdown",
   "metadata": {},
   "source": [
    "## Recuperatorio parcial 3 - Guías 6 y 7\n",
    "\n",
    "**Modalidad:** Presencial. \n",
    "\n",
    "## Nombre\n",
    "\n",
    "* Juan/a Perez, DNI: 10.000.000\n",
    "\n",
    "## Nota sobre la programación en Julia\n",
    "\n",
    "Recuerde que su notebook tiene que poder ser entendida por otra persona. Para ello:\n",
    "\n",
    "* Cuando crea conveniente, use celdas/texto Markdown para desarrollar o comentar una idea.\n",
    "\n",
    "* Agregue comentarios a su código de ser necesario.\n",
    "\n",
    "* Realice gráficos que tengan etiquetas en los ejes y leyendas para cada curva o serie de puntos graficados.\n",
    "\n",
    "* Procure respetar reglas de buena programación:\n",
    "\n",
    "    * Use sangrías (indentación o bloques) adecuadamente y recuerde el concepto de alcance (o scope).\n",
    "\n",
    "    * Cuando sea posible, implemente funciones de caracter general, en vez de código específico a cada problema, facilitando así la reutilización de código.\n",
    "\n",
    "    * Implemente funciones que tengan los argumentos necesarios para su buen funcionamiento, en vez de utilizar variables globales.\n",
    " \n",
    "* **IMPORTANTE:** Antes de enviar el notebook para su corrección, no olvide resetear el kernel y re-evaluar nuevamente todas las celdas en orden, procurando que los resultados sean correctos."
   ]
  },
  {
   "cell_type": "code",
   "execution_count": null,
   "metadata": {},
   "outputs": [],
   "source": [
    "using Plots\n",
    "using LaTeXStrings\n",
    "using DataFrames\n",
    "using CSV\n",
    "using LsqFit"
   ]
  },
  {
   "cell_type": "markdown",
   "metadata": {},
   "source": [
    "## Problema 1\n",
    "\n",
    "1. Implemente funciones que permitan obtener aproximaciones numéricas de la integral de una cierta función $f:x\\to f(x)$ utilizando los métodos de **trapecio** y **Simpson**. Las funciones deben tomar como datos de entrada:\n",
    "    1. la función a integrar $f$,\n",
    "    2. el intervalo de integración $[a,b]$, y\n",
    "    3. el número de subintervalos de integración $n$.\n",
    "y deberán retornar la aproximación de la integral en doble precisión.\n",
    "\n",
    "2. Grafique la función\n",
    "$$\n",
    "f(x) = \\pi sen(\\pi x)  \n",
    "$$\n",
    "en el intervalo $[0,1]$.\n",
    "\n",
    "3. Utilizando el programa realizado en el primer punto, encuentre las dos aproximaciones numéricas $S_T$ y $S_S$ a la integral:\n",
    "$$\n",
    "I = \\int _0 ^1 \\pi sen(\\pi x) dx \\, .\n",
    "$$\n",
    "Utilice un espaciamiento $h=0.05$, y luego repita el procedimiento disminuyendo su espaciamiento a la mitad, $h/2=0.025$.\n",
    "  \n",
    "4. Teniendo en cuenta que es posible conocer el resultado exacto de la integral en cuestión, evalúe el error $\\varepsilon(h)=|S(h)-I|$, para $h=0.05$ y $h/2=0.025$. Verifique que\n",
    "el cociente de precisión, definido como \n",
    "$$\n",
    "Q = \\frac{\\varepsilon(h)}{\\varepsilon(h/2)}\n",
    "$$\n",
    "tome los valores esperados para cada método.\n",
    "Teniendo en cuenta la expresión del  error de truncamiento en cada caso, justifique este resultado."
   ]
  },
  {
   "cell_type": "markdown",
   "metadata": {},
   "source": [
    "### Rta. 1.1"
   ]
  },
  {
   "cell_type": "code",
   "execution_count": null,
   "metadata": {},
   "outputs": [],
   "source": []
  },
  {
   "cell_type": "markdown",
   "metadata": {},
   "source": [
    "## Problema 2\n",
    "\n",
    "Considere el problema de valores iniciales\n",
    "$$\n",
    "\\frac{dy}{dt}(t) = 2 \\, t\\,y + t \\qquad  \\qquad 0\\le t \\le 1, \n",
    "\\qquad \\qquad \n",
    "y(0)=0.5 \\, ,\n",
    "$$\n",
    "\n",
    "1. Utilice para resolver el problema el método de Runge-Kutta de 4$^{\\circ}$ orden, con un paso $h=0.01$. \n",
    "\n",
    "2. Teniendo en cuenta que la solución exacta de este problema es\n",
    "$$\n",
    "y_e (t) = \\exp(t^2)-\\frac12\n",
    "$$\n",
    "a modo de comparación, grafique simultaneamente la solución exacta y la aproximación numérica anteriormente computada.\n",
    "\n",
    "3. Grafique simultaneamente, en escala logarítmica en $y$ y lineal en $x$, la curva del error absoluto $\\epsilon_i=|w_i-y(t_i)|$ vs $t_i$ obtenida.\n",
    "\n",
    "4. Repita el punto 1) para $h=0.025$, $h=0.05$ y $h=0.1$, agregue las tres curvas del error absoluto en función del tiempo al gráfico del punto 3).\n",
    "\n",
    "5. Grafique en escala doble logarítmica el error absoluto en el extremo \n",
    "derecho del intervalo en función de $h$. Realice un ajuste y estime la ley de decaimiento del error.\n",
    "\n",
    "6. Comente el punto anterior y explique el porqué del comportamiento observado."
   ]
  },
  {
   "cell_type": "markdown",
   "metadata": {},
   "source": [
    "### Rta. 2.1"
   ]
  },
  {
   "cell_type": "code",
   "execution_count": null,
   "metadata": {},
   "outputs": [],
   "source": []
  }
 ],
 "metadata": {
  "@webio": {
   "lastCommId": null,
   "lastKernelId": null
  },
  "kernelspec": {
   "display_name": "Julia 1.11.5",
   "language": "julia",
   "name": "julia-1.11"
  },
  "language_info": {
   "file_extension": ".jl",
   "mimetype": "application/julia",
   "name": "julia",
   "version": "1.11.5"
  }
 },
 "nbformat": 4,
 "nbformat_minor": 4
}
